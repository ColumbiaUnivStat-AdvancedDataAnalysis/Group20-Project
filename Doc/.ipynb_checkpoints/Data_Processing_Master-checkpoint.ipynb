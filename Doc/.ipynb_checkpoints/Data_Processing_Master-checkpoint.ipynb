{
 "cells": [
  {
   "cell_type": "markdown",
   "metadata": {},
   "source": [
    "### Read before you change this file"
   ]
  },
  {
   "cell_type": "markdown",
   "metadata": {},
   "source": [
    "Hi there, please use object name 'Raw_Data' when you load the Listing.csv and use object name 'Processed_Data' to save your processed result. After you cbind your result, please make sure the dimensions are correct. Thanks."
   ]
  },
  {
   "cell_type": "markdown",
   "metadata": {},
   "source": [
    "### Import packages"
   ]
  },
  {
   "cell_type": "code",
   "execution_count": 1,
   "metadata": {},
   "outputs": [],
   "source": [
    "import pandas as pd\n",
    "import numpy as np\n",
    "import os\n",
    "import matplotlib.pyplot as plt\n",
    "% matplotlib inline"
   ]
  },
  {
   "cell_type": "markdown",
   "metadata": {},
   "source": [
    "### Data Processing Code of Kevin"
   ]
  },
  {
   "cell_type": "code",
   "execution_count": 2,
   "metadata": {},
   "outputs": [
    {
     "name": "stderr",
     "output_type": "stream",
     "text": [
      "C:\\Users\\KevinZhang\\Anaconda3\\lib\\site-packages\\IPython\\core\\interactiveshell.py:2785: DtypeWarning: Columns (43,87,88) have mixed types. Specify dtype option on import or set low_memory=False.\n",
      "  interactivity=interactivity, compiler=compiler, result=result)\n",
      "C:\\Users\\KevinZhang\\Anaconda3\\lib\\site-packages\\ipykernel_launcher.py:9: SettingWithCopyWarning: \n",
      "A value is trying to be set on a copy of a slice from a DataFrame\n",
      "\n",
      "See the caveats in the documentation: http://pandas.pydata.org/pandas-docs/stable/indexing.html#indexing-view-versus-copy\n",
      "  if __name__ == '__main__':\n",
      "C:\\Users\\KevinZhang\\Anaconda3\\lib\\site-packages\\ipykernel_launcher.py:11: SettingWithCopyWarning: \n",
      "A value is trying to be set on a copy of a slice from a DataFrame\n",
      "\n",
      "See the caveats in the documentation: http://pandas.pydata.org/pandas-docs/stable/indexing.html#indexing-view-versus-copy\n",
      "  # This is added back by InteractiveShellApp.init_path()\n",
      "C:\\Users\\KevinZhang\\Anaconda3\\lib\\site-packages\\ipykernel_launcher.py:33: SettingWithCopyWarning: \n",
      "A value is trying to be set on a copy of a slice from a DataFrame\n",
      "\n",
      "See the caveats in the documentation: http://pandas.pydata.org/pandas-docs/stable/indexing.html#indexing-view-versus-copy\n",
      "C:\\Users\\KevinZhang\\Anaconda3\\lib\\site-packages\\ipykernel_launcher.py:34: SettingWithCopyWarning: \n",
      "A value is trying to be set on a copy of a slice from a DataFrame\n",
      "\n",
      "See the caveats in the documentation: http://pandas.pydata.org/pandas-docs/stable/indexing.html#indexing-view-versus-copy\n"
     ]
    },
    {
     "data": {
      "text/plain": [
       "(50914, 39)"
      ]
     },
     "execution_count": 2,
     "metadata": {},
     "output_type": "execute_result"
    }
   ],
   "source": [
    "# Data Processing Code of Kevin\n",
    "# Loading Data\n",
    "Raw_Data = pd.read_csv(\"D:/OneDrive - The City University of New York/Columbia Courses/2018 Fall/GR5291 Advanced Data Analysis/Group Project/Data for ADA/Data/listings.csv\")\n",
    "#Raw_Data = pd.read_csv(\"./listings.csv\")\n",
    "# Initialing Data Frame and Processing the first variable\n",
    "Processed_Data=pd.DataFrame({'id':Raw_Data['id'],})\n",
    "Processed_Data = pd.concat([Processed_Data, Raw_Data['host_is_superhost']], axis = 1)\n",
    "# Transforming the host_is_superhost into 0-1\n",
    "Processed_Data['host_is_superhost'][Processed_Data['host_is_superhost'] == 't'] = 1\n",
    "# Imputing the missing value by 0\n",
    "Processed_Data['host_is_superhost'][Processed_Data['host_is_superhost'] != 1] = 0  \n",
    "Processed_Data['host_is_superhost']\n",
    "\n",
    "# Creating property_type_df with all 0\n",
    "property_type_df = pd.DataFrame(0, columns = Raw_Data['property_type'].unique()[:-1], index = range(Processed_Data.shape[0]))\n",
    "# Transforming the host_is_superhost into 0-1\n",
    "for type in property_type_df.columns:\n",
    "    property_type_df[type][Raw_Data['property_type'] == type] = 1\n",
    "# Renaming the column names in property_type_df\n",
    "property_type_df.columns = [\"property_type_\" + str(i) for i in property_type_df.columns]\n",
    "# cbind the processed datas\n",
    "Processed_Data = pd.concat([Processed_Data, property_type_df], axis = 1)   # cbind the processed datas\n",
    "\n",
    "# cbind the availability variables\n",
    "Processed_Data = pd.concat([Processed_Data, Raw_Data['availability_30']], axis = 1)\n",
    "Processed_Data = pd.concat([Processed_Data, Raw_Data['availability_60']], axis = 1)\n",
    "Processed_Data = pd.concat([Processed_Data, Raw_Data['availability_90']], axis = 1)\n",
    "Processed_Data = pd.concat([Processed_Data, Raw_Data['availability_365']], axis = 1)\n",
    "\n",
    "# cbind the require_guest_phone_verification variables\n",
    "Processed_Data = pd.concat([Processed_Data, Raw_Data['require_guest_phone_verification']], axis = 1)\n",
    "# Transforming the host_is_superhost into 0-1\n",
    "Processed_Data['require_guest_phone_verification'][Processed_Data['require_guest_phone_verification'] == 't'] = 1\n",
    "Processed_Data['require_guest_phone_verification'][Processed_Data['require_guest_phone_verification'] == 'f'] = 0\n",
    "#Processed_Data.to_csv('Processed_Data.csv', encoding = 'utf-8')\n",
    "Processed_Data.head()\n",
    "Processed_Data.shape"
   ]
  },
  {
   "cell_type": "markdown",
   "metadata": {},
   "source": [
    "### Data Processing Code of Wanyi"
   ]
  },
  {
   "cell_type": "code",
   "execution_count": 3,
   "metadata": {},
   "outputs": [
    {
     "name": "stderr",
     "output_type": "stream",
     "text": [
      "C:\\Users\\KevinZhang\\Anaconda3\\lib\\site-packages\\IPython\\core\\interactiveshell.py:2785: DtypeWarning: Columns (43,87,88) have mixed types. Specify dtype option on import or set low_memory=False.\n",
      "  interactivity=interactivity, compiler=compiler, result=result)\n"
     ]
    },
    {
     "data": {
      "text/plain": [
       "(50914, 43)"
      ]
     },
     "execution_count": 3,
     "metadata": {},
     "output_type": "execute_result"
    }
   ],
   "source": [
    "Raw_Data = pd.read_csv(\"D:/OneDrive - The City University of New York/Columbia Courses/2018 Fall/GR5291 Advanced Data Analysis/Group Project/Data for ADA/Data/listings.csv\")\n",
    "######## Variables BATHROOMS\n",
    "bathrooms = pd.DataFrame(data = Raw_Data['bathrooms'])\n",
    "# Imputing the missing value by 0\n",
    "bathrooms['bathrooms'] = bathrooms['bathrooms'].replace(np.NaN, 0)\n",
    "# Combine the processed datas\n",
    "Processed_Data = pd.concat([Processed_Data, bathrooms], axis = 1)\n",
    "\n",
    "######## Variables BATHROOMS\n",
    "bedrooms = pd.DataFrame(data = Raw_Data['bedrooms'])\n",
    "# Imputing the missing value by 0\n",
    "bedrooms['bedrooms'] = bedrooms['bedrooms'].replace(np.NaN, 0)\n",
    "# Combine the processed datas\n",
    "Processed_Data = pd.concat([Processed_Data, bedrooms], axis = 1)\n",
    "\n",
    "######## Variables WEEKLY_PRICE\n",
    "weekly_price = pd.DataFrame(data = Raw_Data['weekly_price'])\n",
    "# Imputing the missing value by 0 and existing values by 1\n",
    "weekly_price['weekly_price'] = weekly_price['weekly_price'].replace(np.NaN, 0)\n",
    "weekly_price['weekly_price'][weekly_price['weekly_price'] != 0] = 1 \n",
    "# Combine the processed datas\n",
    "Processed_Data = pd.concat([Processed_Data, weekly_price], axis = 1)\n",
    "\n",
    "######## Variables MONTHLY_PRICE\n",
    "monthly_price = pd.DataFrame(data = Raw_Data['monthly_price'])\n",
    "# Imputing the missing value by 0 and existing values by 1\n",
    "monthly_price['monthly_price'] = monthly_price['monthly_price'].replace(np.NaN, 0)\n",
    "monthly_price['monthly_price'][monthly_price['monthly_price'] != 0] = 1 \n",
    "# Combine the processed datas\n",
    "Processed_Data = pd.concat([Processed_Data, monthly_price], axis = 1)\n",
    "Processed_Data.shape\n",
    "# Processed_Data.to_csv('Processed_Data.csv', encoding = 'utf-8')"
   ]
  },
  {
   "cell_type": "markdown",
   "metadata": {},
   "source": [
    "### Data Processing Code of Hongbo"
   ]
  },
  {
   "cell_type": "code",
   "execution_count": 4,
   "metadata": {},
   "outputs": [
    {
     "name": "stderr",
     "output_type": "stream",
     "text": [
      "C:\\Users\\KevinZhang\\Anaconda3\\lib\\site-packages\\IPython\\core\\interactiveshell.py:2785: DtypeWarning: Columns (43,87,88) have mixed types. Specify dtype option on import or set low_memory=False.\n",
      "  interactivity=interactivity, compiler=compiler, result=result)\n"
     ]
    },
    {
     "data": {
      "text/plain": [
       "(50914, 47)"
      ]
     },
     "execution_count": 4,
     "metadata": {},
     "output_type": "execute_result"
    }
   ],
   "source": [
    "Raw_Data = pd.read_csv(\"D:/OneDrive - The City University of New York/Columbia Courses/2018 Fall/GR5291 Advanced Data Analysis/Group Project/Data for ADA/Data/listings.csv\")\n",
    "# My variable includes: \n",
    "    # 1. extra_charge/ price ratio\n",
    "    # 2. deposits/ price ratio\n",
    "    # 3. smoke or nat.\n",
    "\n",
    "# read data\n",
    "#os.chdir('/Users/hongbozhu/Desktop/5291 ADA/ADA project')\n",
    "#Raw_Data=pd.read_csv('listings.csv')\n",
    "# a.head()\n",
    "data = Raw_Data    \n",
    "# Original data is something like $100.00. convert it to something like 100.00\n",
    "data['price']=data['price'].replace('[\\$,]','',regex=True).astype(float)\n",
    "data['extra_people']=data['extra_people'].replace('[\\$,]','',regex=True).astype(float)\n",
    "data['security_deposit']=data['security_deposit'].replace('[\\$,]','',regex=True).astype(float)\n",
    "\n",
    "#compute the ratios which are first two variables.\n",
    "deposits_price_ratio=data['security_deposit']/data['price']\n",
    "extra_charge_price_ratio=data['extra_people']/data['price']\n",
    "\n",
    "# the column 'house_rules' is with contex. host forbid somkes by words like \" do not smoke\",\n",
    "# \"no_smoke\", 'please don't smoke', 'smoke outside'. As long as \"smoke\" appears, smoke is not allowed.\n",
    "no_smoke=pd.to_numeric(data['house_rules'].str.contains('smoke'))\n",
    "\n",
    "# combine all columns\n",
    "Processed_Data_Hongbo=pd.DataFrame({'id':data['id'],\n",
    "                       'deposit_price_ratio':deposits_price_ratio,\n",
    "                       'extra_charge_price_ratio':extra_charge_price_ratio,\n",
    "                      'no_smoke':no_smoke})\n",
    "\n",
    "# some rows of price are zero. so the ratio will be infinite. convert them to missing value.\n",
    "Processed_Data_Hongbo[Processed_Data_Hongbo==np.inf]=np.nan\n",
    "Processed_Data = pd.concat([Processed_Data, Processed_Data_Hongbo], axis = 1)\n",
    "Processed_Data.head()\n",
    "Processed_Data.shape"
   ]
  },
  {
   "cell_type": "markdown",
   "metadata": {},
   "source": [
    "# Data Processing Code of Shuoqiu"
   ]
  },
  {
   "cell_type": "code",
   "execution_count": 5,
   "metadata": {},
   "outputs": [
    {
     "name": "stderr",
     "output_type": "stream",
     "text": [
      "C:\\Users\\KevinZhang\\Anaconda3\\lib\\site-packages\\IPython\\core\\interactiveshell.py:2785: DtypeWarning: Columns (43,87,88) have mixed types. Specify dtype option on import or set low_memory=False.\n",
      "  interactivity=interactivity, compiler=compiler, result=result)\n"
     ]
    },
    {
     "name": "stdout",
     "output_type": "stream",
     "text": [
      "['Real Bed', 'Pull-out Sofa', 'Airbed', 'Futon', 'Couch']\n"
     ]
    },
    {
     "data": {
      "text/plain": [
       "(50914, 54)"
      ]
     },
     "execution_count": 5,
     "metadata": {},
     "output_type": "execute_result"
    }
   ],
   "source": [
    "Raw_Data = pd.read_csv(\"D:/OneDrive - The City University of New York/Columbia Courses/2018 Fall/GR5291 Advanced Data Analysis/Group Project/Data for ADA/Data/listings.csv\")\n",
    "# Remove the dollar sign from price variable and turn the characters as float\n",
    "price_r = Raw_Data['price']\n",
    "\n",
    "p = [0]*len(price_r)\n",
    "price = [0]*len(price_r)\n",
    "       \n",
    "for i in range(0,len(price_r)):\n",
    "    p[i] = price_r[i].replace(\",\",\"\").replace(\"$\",\"\")\n",
    "    price[i] = float(p[i])\n",
    "    \n",
    "price = pd.DataFrame(data = {'price': price})\n",
    "\n",
    "\n",
    "# Define the minimum_nights variable\n",
    "minimum_nights = pd.DataFrame(data = Raw_Data['minimum_nights'])\n",
    "\n",
    "\n",
    "# Get the categories of the bed types\n",
    "bed_type = Raw_Data['bed_type']\n",
    "bed_type_u = []\n",
    "for i in bed_type:\n",
    "    if i not in bed_type_u:\n",
    "        bed_type_u.append(i)\n",
    "print (bed_type_u)\n",
    "\n",
    "# Create 4 more variables to capture the categories of bed types and save them in the new matrix 'df'\n",
    "# Create a variable called \"bed_type_Real_Bed\" and set its value equals to 1 when the bed_type is \"Real Bed\", others follow this logic\n",
    "bed_type_Real_Bed = [0]*len(price_r)\n",
    "df = pd.DataFrame()\n",
    "df['bed_type_Real_Bed']= bed_type_Real_Bed\n",
    "df.loc[Raw_Data['bed_type'] == 'Real Bed', 'bed_type_Real_Bed'] = 1\n",
    "\n",
    "# Need to modify the name \"bed_type_Pull_out_Sofa\" as Python does not read \"-\"\n",
    "bed_type_Pull_out_Sofa = [0]*len(price_r)\n",
    "df['bed_type_Pull_out_Sofa']= bed_type_Pull_out_Sofa\n",
    "df.loc[Raw_Data['bed_type'] == 'Pull-out Sofa', 'bed_type_Pull_out_Sofa'] = 1\n",
    "\n",
    "# Similar with 'Futon','Airbed' and 'Couch'\n",
    "bed_type_Futon = [0]*len(price_r)\n",
    "df['bed_type_Futon']= bed_type_Futon\n",
    "df.loc[Raw_Data['bed_type'] == 'Futon', 'bed_type_Futon'] = 1\n",
    "\n",
    "bed_type_Airbed = [0]*len(price_r)\n",
    "df['bed_type_Airbed']= bed_type_Airbed\n",
    "df.loc[Raw_Data['bed_type'] == 'Airbed', 'bed_type_Airbed'] = 1\n",
    "\n",
    "bed_type_Couch = [0]*len(price_r)\n",
    "df['bed_type_Couch']= bed_type_Couch\n",
    "df.loc[Raw_Data['bed_type'] == 'Couch', 'bed_type_Couch'] = 1\n",
    "\n",
    "Processed_Data = pd.concat([Processed_Data, price, minimum_nights, df['bed_type_Real_Bed'], df['bed_type_Pull_out_Sofa'], df['bed_type_Futon'], df['bed_type_Airbed'], df['bed_type_Couch']], axis = 1)\n",
    "Processed_Data.shape"
   ]
  },
  {
   "cell_type": "markdown",
   "metadata": {},
   "source": [
    "# data processing of Amelia"
   ]
  },
  {
   "cell_type": "code",
   "execution_count": 6,
   "metadata": {},
   "outputs": [
    {
     "name": "stderr",
     "output_type": "stream",
     "text": [
      "C:\\Users\\KevinZhang\\Anaconda3\\lib\\site-packages\\IPython\\core\\interactiveshell.py:2785: DtypeWarning: Columns (43,87,88) have mixed types. Specify dtype option on import or set low_memory=False.\n",
      "  interactivity=interactivity, compiler=compiler, result=result)\n"
     ]
    },
    {
     "data": {
      "text/plain": [
       "(50914, 183)"
      ]
     },
     "execution_count": 6,
     "metadata": {},
     "output_type": "execute_result"
    }
   ],
   "source": [
    "Raw_Data = pd.read_csv(\"D:/OneDrive - The City University of New York/Columbia Courses/2018 Fall/GR5291 Advanced Data Analysis/Group Project/Data for ADA/Data/listings.csv\")\n",
    "# variables accommodates, address, amenities\n",
    "# There are no missing values in accommodates\n",
    "# cbind the Processed_Data\n",
    "Processed_Data = pd.concat([Processed_Data, Raw_Data['accommodates']], axis = 1)\n",
    "\n",
    "# varible address using zipcode\n",
    "# note zipcode is NOT numeric\n",
    "Processed_Data = pd.concat([Processed_Data, Raw_Data['zipcode']], axis = 1)\n",
    "\n",
    "# remove\",{} in amenities, and change ' ' to '_'\n",
    "amenities = Raw_Data['amenities']\n",
    "for i in range(len(amenities)):\n",
    "    amenities.at[i] = amenities[i].replace('{','').replace('}','').replace('\"', '').replace(' ','_') \n",
    "\n",
    "# put all the possible amenities into one set\n",
    "sets = set()\n",
    "for i in range(len(amenities)):\n",
    "    for field in amenities[i].split(','):\n",
    "        sets.add('amenities_' + field)\n",
    "\n",
    "# create new df to store {0,1} values of amenities\n",
    "df_amenities = pd.DataFrame(0, columns=list(sets), index=range(Processed_Data.shape[0]))\n",
    "len(sets)     #126\n",
    "df_amenities.shape   #(50220, 126)\n",
    "\n",
    "# transforming amenities to {0,1}\n",
    "for s in sets:\n",
    "    #print(s[10:])\n",
    "    for i in range(len(amenities)):\n",
    "        for field in amenities[i].split(','):\n",
    "            #print(field)\n",
    "            if field == s[10:]:\n",
    "                df_amenities[s][i] = 1\n",
    "df_amenities.sum()\n",
    "\n",
    "# cbind Processed_Data and amenities df\n",
    "Processed_Data = pd.concat([Processed_Data, df_amenities], axis = 1) \n",
    "Processed_Data.shape"
   ]
  },
  {
   "cell_type": "markdown",
   "metadata": {},
   "source": [
    "# Data Processing of Fiona"
   ]
  },
  {
   "cell_type": "code",
   "execution_count": 7,
   "metadata": {},
   "outputs": [
    {
     "name": "stderr",
     "output_type": "stream",
     "text": [
      "C:\\Users\\KevinZhang\\Anaconda3\\lib\\site-packages\\IPython\\core\\interactiveshell.py:2785: DtypeWarning: Columns (43,87,88) have mixed types. Specify dtype option on import or set low_memory=False.\n",
      "  interactivity=interactivity, compiler=compiler, result=result)\n"
     ]
    },
    {
     "data": {
      "text/plain": [
       "(50914, 190)"
      ]
     },
     "execution_count": 7,
     "metadata": {},
     "output_type": "execute_result"
    }
   ],
   "source": [
    "Raw_Data = pd.read_csv(\"D:/OneDrive - The City University of New York/Columbia Courses/2018 Fall/GR5291 Advanced Data Analysis/Group Project/Data for ADA/Data/listings.csv\")\n",
    "######instant bookable\n",
    "instant_bookable = pd.DataFrame(data = Raw_Data['instant_bookable'])\n",
    "# Transforming the instant_bookable into 0-1\n",
    "instant_bookable['instant_bookable'][instant_bookable['instant_bookable'] == 't'] = 1\n",
    "instant_bookable['instant_bookable'][instant_bookable['instant_bookable'] == 'f'] = 0\n",
    "\n",
    "######response time\n",
    "host_response_time = pd.DataFrame(data = Raw_Data['host_response_time'])\n",
    "#Imputing the missing value  by No_information\n",
    "host_response_time['host_response_time'] = host_response_time['host_response_time'].replace(np.NaN, \"No_information\")\n",
    "# Creating host_response_time_df with all 0\n",
    "host_response_time_df = pd.DataFrame(0, columns = host_response_time['host_response_time'].unique()[:-1], index = range(Processed_Data.shape[0]))\n",
    "# Transforming the categories into 0-1\n",
    "for type in host_response_time_df.columns:\n",
    "    host_response_time_df[type][host_response_time['host_response_time'] == type] = 1\n",
    "#new column names\n",
    "host_response_time_df.columns = [\"host_response_time_\" + str(i) for i in host_response_time_df.columns ]\n",
    "    \n",
    "######response rate\n",
    "host_response_rate = pd.DataFrame(data = Raw_Data['host_response_rate'])\n",
    "# Imputing the missing value by 0%\n",
    "host_response_rate['host_response_rate'] = host_response_rate['host_response_rate'].replace(np.NaN, \"0%\")\n",
    "\n",
    "######reviews per month\n",
    "reviews_per_month = pd.DataFrame(data = Raw_Data['reviews_per_month'])\n",
    "# Imputing the missing value by 0\n",
    "reviews_per_month['reviews_per_month'] = reviews_per_month['reviews_per_month'].replace(np.NaN, 0)\n",
    "\n",
    "######cbind\n",
    "Processed_Data = pd.concat([Processed_Data,instant_bookable, host_response_time_df,host_response_rate,reviews_per_month], axis = 1)  \n",
    "Processed_Data.shape"
   ]
  },
  {
   "cell_type": "markdown",
   "metadata": {},
   "source": [
    "# Data Processing of Ge "
   ]
  },
  {
   "cell_type": "code",
   "execution_count": 8,
   "metadata": {},
   "outputs": [
    {
     "name": "stderr",
     "output_type": "stream",
     "text": [
      "C:\\Users\\KevinZhang\\Anaconda3\\lib\\site-packages\\IPython\\core\\interactiveshell.py:2785: DtypeWarning: Columns (43,87,88) have mixed types. Specify dtype option on import or set low_memory=False.\n",
      "  interactivity=interactivity, compiler=compiler, result=result)\n"
     ]
    },
    {
     "data": {
      "text/plain": [
       "(50914, 193)"
      ]
     },
     "execution_count": 8,
     "metadata": {},
     "output_type": "execute_result"
    }
   ],
   "source": [
    "Raw_Data = pd.read_csv(\"D:/OneDrive - The City University of New York/Columbia Courses/2018 Fall/GR5291 Advanced Data Analysis/Group Project/Data for ADA/Data/listings.csv\")\n",
    "#host_has_profile_pic\n",
    "#host_identity_verified\n",
    "#guests_included\n",
    "\n",
    "#1.host_has_profile_pic, change t/f to 1/0\n",
    "host=pd.DataFrame(data=Raw_Data['host_has_profile_pic'])\n",
    "# Transforming the host_has_profile_pic into 0-1\n",
    "host['host_has_profile_pic'][host['host_has_profile_pic'] == 't'] = 1\n",
    "# Imputing the missing value by 0\n",
    "host['host_has_profile_pic'][host['host_has_profile_pic'] != 1] = 0  \n",
    "host['host_has_profile_pic']\n",
    "# Combine \n",
    "Processed_Data = pd.concat([Processed_Data, host], axis = 1)\n",
    "\n",
    "#2.host_identity_verified, change t/f to 1/0\n",
    "identity=pd.DataFrame(data=Raw_Data['host_identity_verified'])\n",
    "# Transforming the host_identity_verified into 0-1\n",
    "identity['host_identity_verified'][identity['host_identity_verified'] == 't'] = 1\n",
    "# Imputing the missing value by 0\n",
    "identity['host_identity_verified'][identity['host_identity_verified'] != 1] = 0  \n",
    "identity['host_identity_verified']\n",
    "# Combine \n",
    "Processed_Data = pd.concat([Processed_Data, identity], axis = 1)\n",
    "\n",
    "#3.guests_included, without any change \n",
    "guests=pd.DataFrame(data=Raw_Data['guests_included'])\n",
    "Processed_Data = pd.concat([Processed_Data, guests], axis = 1)\n",
    "Processed_Data.shape"
   ]
  },
  {
   "cell_type": "markdown",
   "metadata": {},
   "source": [
    "### Data Processing Code of Woody"
   ]
  },
  {
   "cell_type": "code",
   "execution_count": null,
   "metadata": {},
   "outputs": [],
   "source": [
    "data = pd.read_csv(\"D:/OneDrive - The City University of New York/Columbia Courses/2018 Fall/GR5291 Advanced Data Analysis/Group Project/Data for ADA/Data/listings.csv\")\n",
    "\n",
    "# Combine the elements into a long string for further process.\n",
    "longst = data['host_verifications'][1][1: len(data['host_verifications'][1])-1]\n",
    "for i in range(1,data.shape[0]):\n",
    "    print(str(i)+'a', end = '\\r')\n",
    "    strr = data['host_verifications'][i][1: len(data['host_verifications'][i])-1]\n",
    "    longst = longst + ', ' + strr\n",
    "\n",
    "# Split the long string into a long list. Thus we successfully seperates the elements of varifications.\n",
    "longst = longst.split(', ')\n",
    "\n",
    "# Remove meaningless elements\n",
    "while '' in longst:\n",
    "    longst.remove('')\n",
    "while 'on' in longst:\n",
    "    longst.remove('on')\n",
    "\n",
    "# Create the benchmark list that contains the elements.    \n",
    "bench = pd.Series(longst).unique()\n",
    "\n",
    "# Expand the dataframe and turn the original data into dummy variables.\n",
    "n1 = len(bench)\n",
    "n0 = data.shape[0]\n",
    "varification = pd.DataFrame(0, index=range(n0), columns=bench)\n",
    "for j in range(n0):\n",
    "    print(str(j)+'b', end = '\\r')\n",
    "    hostinf = data['host_verifications'][j][1: len(data['host_verifications'][j])-1].split(', ')\n",
    "    if hostinf[0] == '' or hostinf[0] == 'on':\n",
    "        continue\n",
    "    for k in range(len(hostinf)):\n",
    "        name = hostinf[k]\n",
    "        varification[name][j] = 1\n",
    "\n",
    "# Another representation of the host_varification data. Count the number of varifications each host holds.\n",
    "vari2 = []\n",
    "for l in range(n0):\n",
    "    print(str(l)+'c', end = '\\r')\n",
    "    hostvari = data['host_verifications'][l][1: len(data['host_verifications'][l])-1].split(', ')\n",
    "    count = len(hostvari)\n",
    "    vari2.append(count)\n",
    "varification['count'] = vari2\n",
    "\n",
    "# Attach reviews_per_month variable.\n",
    "varification['reviews_per_month'] = data['reviews_per_month']\n",
    "\n",
    "# Attach cleaning_fee variable.\n",
    "for m in range(n0):\n",
    "    print(str(m)+'d', end = '\\r')\n",
    "    out = data['cleaning_fee'][m]\n",
    "    print(out, end = '\\r')\n",
    "    if type(out) != float:\n",
    "        data['cleaning_fee'][m] = float(out[1:])\n",
    "    else:\n",
    "        data['cleaning_fee'][m] = 0\n",
    "varification['cleaning_fee'] = data['cleaning_fee']\n",
    "\n",
    "# Combine the processed datas.\n",
    "Processed_Data = pd.concat([Processed_Data, varification], axis = 1)\n",
    "Processed_Data.shape"
   ]
  },
  {
   "cell_type": "code",
   "execution_count": null,
   "metadata": {},
   "outputs": [],
   "source": [
    "Woody_Processed_Data = pd.read_csv(\"D:/OneDrive - The City University of New York/Columbia Courses/2018 Fall/GR5291 Advanced Data Analysis/Group Project/Data for ADA/Data/data.csv\")"
   ]
  },
  {
   "cell_type": "code",
   "execution_count": null,
   "metadata": {},
   "outputs": [],
   "source": [
    "Woody_Processed_Datacolumn"
   ]
  },
  {
   "cell_type": "code",
   "execution_count": null,
   "metadata": {},
   "outputs": [],
   "source": [
    "Woody_Processed_Data.shape"
   ]
  },
  {
   "cell_type": "code",
   "execution_count": null,
   "metadata": {},
   "outputs": [],
   "source": [
    "Processed_Data.shape"
   ]
  },
  {
   "cell_type": "code",
   "execution_count": null,
   "metadata": {},
   "outputs": [],
   "source": [
    "Processed_Data = pd.concat([Processed_Data, Woody_Processed_Data], axis = 1)"
   ]
  },
  {
   "cell_type": "code",
   "execution_count": null,
   "metadata": {},
   "outputs": [],
   "source": [
    "Processed_Data.shape"
   ]
  },
  {
   "cell_type": "code",
   "execution_count": 9,
   "metadata": {},
   "outputs": [],
   "source": [
    "Processed_Data.to_csv('Processed_Data.csv', encoding = 'utf-8')"
   ]
  },
  {
   "cell_type": "code",
   "execution_count": null,
   "metadata": {},
   "outputs": [],
   "source": [
    "Processed_Data.describe().transpose()"
   ]
  },
  {
   "cell_type": "code",
   "execution_count": null,
   "metadata": {},
   "outputs": [],
   "source": [
    "print(Processed_Data.columns[1:20])\n",
    "print(Processed_Data.columns[21:40])\n",
    "print(Processed_Data.columns[41:60])\n",
    "print(Processed_Data.columns[61:80])\n",
    "print(Processed_Data.columns[81:100])\n",
    "print(Processed_Data.columns[101:120])\n",
    "print(Processed_Data.columns[121:140])\n",
    "print(Processed_Data.columns[141:160])\n",
    "print(Processed_Data.columns[161:180])\n",
    "print(Processed_Data.columns[181:200])\n",
    "print(Processed_Data.columns[201:208])"
   ]
  },
  {
   "cell_type": "code",
   "execution_count": null,
   "metadata": {},
   "outputs": [],
   "source": []
  }
 ],
 "metadata": {
  "kernelspec": {
   "display_name": "Python 3",
   "language": "python",
   "name": "python3"
  },
  "language_info": {
   "codemirror_mode": {
    "name": "ipython",
    "version": 3
   },
   "file_extension": ".py",
   "mimetype": "text/x-python",
   "name": "python",
   "nbconvert_exporter": "python",
   "pygments_lexer": "ipython3",
   "version": "3.6.5"
  }
 },
 "nbformat": 4,
 "nbformat_minor": 2
}
