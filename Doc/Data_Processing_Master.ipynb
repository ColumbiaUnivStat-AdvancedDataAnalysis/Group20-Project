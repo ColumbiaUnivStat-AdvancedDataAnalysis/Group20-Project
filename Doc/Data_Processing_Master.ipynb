{
 "cells": [
  {
   "cell_type": "markdown",
   "metadata": {},
   "source": [
    "### Read before you change this file"
   ]
  },
  {
   "cell_type": "markdown",
   "metadata": {},
   "source": [
    "Hi there, please use object name 'Raw_Data' when you load the Listing.csv and use object name 'Processed_Data' to save your processed result. After you cbind your result, please make sure the dimensions are correct. Thanks."
   ]
  },
  {
   "cell_type": "markdown",
   "metadata": {},
   "source": [
    "### Import packages"
   ]
  },
  {
   "cell_type": "code",
   "execution_count": 1,
   "metadata": {},
   "outputs": [],
   "source": [
    "import pandas as pd\n",
    "import numpy as np"
   ]
  },
  {
   "cell_type": "markdown",
   "metadata": {},
   "source": [
    "### Data Processing Code of Kevin"
   ]
  },
  {
   "cell_type": "code",
   "execution_count": 2,
   "metadata": {},
   "outputs": [
    {
     "name": "stderr",
     "output_type": "stream",
     "text": [
      "/anaconda3/lib/python3.6/site-packages/IPython/core/interactiveshell.py:2728: DtypeWarning: Columns (43,87,88) have mixed types. Specify dtype option on import or set low_memory=False.\n",
      "  interactivity=interactivity, compiler=compiler, result=result)\n",
      "/anaconda3/lib/python3.6/site-packages/ipykernel_launcher.py:33: SettingWithCopyWarning: \n",
      "A value is trying to be set on a copy of a slice from a DataFrame\n",
      "\n",
      "See the caveats in the documentation: http://pandas.pydata.org/pandas-docs/stable/indexing.html#indexing-view-versus-copy\n",
      "/anaconda3/lib/python3.6/site-packages/ipykernel_launcher.py:34: SettingWithCopyWarning: \n",
      "A value is trying to be set on a copy of a slice from a DataFrame\n",
      "\n",
      "See the caveats in the documentation: http://pandas.pydata.org/pandas-docs/stable/indexing.html#indexing-view-versus-copy\n"
     ]
    }
   ],
   "source": [
    "# Data Processing Code of Kevin\n",
    "# Loading Data\n",
    "#Raw_Data = pd.read_csv(\"C:/Users/Kevin Zhang/OneDrive - The City University of New York/Columbia Courses/2018 Fall/GR5291 Advanced Data Analysis/Group Project/Data for ADA/Data/listings.csv\")\n",
    "Raw_Data = pd.read_csv(\"/Users/wanyiellenzheng/Desktop/LIFE/MA/ada/projects/listings.csv\")\n",
    "\n",
    "# Initialing Data Frame and Processing the first variable\n",
    "Processed_Data = pd.DataFrame(data = Raw_Data['host_is_superhost'])\n",
    "# Transforming the host_is_superhost into 0-1\n",
    "Processed_Data['host_is_superhost'][Processed_Data['host_is_superhost'] == 't'] = 1\n",
    "# Imputing the missing value by 0\n",
    "Processed_Data['host_is_superhost'][Processed_Data['host_is_superhost'] != 1] = 0  \n",
    "Processed_Data['host_is_superhost']\n",
    "\n",
    "# Creating property_type_df with all 0\n",
    "property_type_df = pd.DataFrame(0, columns = Raw_Data['property_type'].unique()[:-1], index = range(Processed_Data.shape[0]))\n",
    "# Transforming the host_is_superhost into 0-1\n",
    "for type in property_type_df.columns:\n",
    "    property_type_df[type][Raw_Data['property_type'] == type] = 1\n",
    "# Renaming the column names in property_type_df\n",
    "property_type_df.columns = [\"property_type_\" + str(i) for i in property_type_df.columns]\n",
    "# cbind the processed datas\n",
    "Processed_Data = pd.concat([Processed_Data, property_type_df], axis = 1)   # cbind the processed datas\n",
    "\n",
    "# cbind the availability variables\n",
    "Processed_Data = pd.concat([Processed_Data, Raw_Data['availability_30']], axis = 1)\n",
    "Processed_Data = pd.concat([Processed_Data, Raw_Data['availability_60']], axis = 1)\n",
    "Processed_Data = pd.concat([Processed_Data, Raw_Data['availability_90']], axis = 1)\n",
    "Processed_Data = pd.concat([Processed_Data, Raw_Data['availability_365']], axis = 1)\n",
    "\n",
    "# cbind the require_guest_phone_verification variables\n",
    "Processed_Data = pd.concat([Processed_Data, Raw_Data['require_guest_phone_verification']], axis = 1)\n",
    "# Transforming the host_is_superhost into 0-1\n",
    "Processed_Data['require_guest_phone_verification'][Processed_Data['require_guest_phone_verification'] == 't'] = 1\n",
    "Processed_Data['require_guest_phone_verification'][Processed_Data['require_guest_phone_verification'] == 'f'] = 0\n",
    "#Processed_Data.to_csv('Processed_Data.csv', encoding = 'utf-8')"
   ]
  },
  {
   "cell_type": "markdown",
   "metadata": {},
   "source": [
    "### Data Processing Code of Wanyi"
   ]
  },
  {
   "cell_type": "code",
   "execution_count": 3,
   "metadata": {},
   "outputs": [],
   "source": [
    "######## Variables BATHROOMS\n",
    "bathrooms = pd.DataFrame(data = Raw_Data['bathrooms'])\n",
    "# Imputing the missing value by 0\n",
    "bathrooms['bathrooms'] = bathrooms['bathrooms'].replace(np.NaN, 0)\n",
    "# Combine the processed datas\n",
    "Processed_Data = pd.concat([Processed_Data, bathrooms], axis = 1)\n",
    "\n",
    "######## Variables BATHROOMS\n",
    "bedrooms = pd.DataFrame(data = Raw_Data['bedrooms'])\n",
    "# Imputing the missing value by 0\n",
    "bedrooms['bedrooms'] = bedrooms['bedrooms'].replace(np.NaN, 0)\n",
    "# Combine the processed datas\n",
    "Processed_Data = pd.concat([Processed_Data, bedrooms], axis = 1)\n",
    "\n",
    "######## Variables WEEKLY_PRICE\n",
    "weekly_price = pd.DataFrame(data = Raw_Data['weekly_price'])\n",
    "# Imputing the missing value by 0 and existing values by 1\n",
    "weekly_price['weekly_price'] = weekly_price['weekly_price'].replace(np.NaN, 0)\n",
    "weekly_price['weekly_price'][weekly_price['weekly_price'] != 0] = 1 \n",
    "# Combine the processed datas\n",
    "Processed_Data = pd.concat([Processed_Data, weekly_price], axis = 1)\n",
    "\n",
    "######## Variables MONTHLY_PRICE\n",
    "monthly_price = pd.DataFrame(data = Raw_Data['monthly_price'])\n",
    "# Imputing the missing value by 0 and existing values by 1\n",
    "monthly_price['monthly_price'] = monthly_price['monthly_price'].replace(np.NaN, 0)\n",
    "monthly_price['monthly_price'][monthly_price['monthly_price'] != 0] = 1 \n",
    "# Combine the processed datas\n",
    "Processed_Data = pd.concat([Processed_Data, monthly_price], axis = 1)\n",
    "\n",
    "Processed_Data.to_csv('Processed_Data.csv', encoding = 'utf-8')"
   ]
  }
 ],
 "metadata": {
  "kernelspec": {
   "display_name": "Python 3",
   "language": "python",
   "name": "python3"
  },
  "language_info": {
   "codemirror_mode": {
    "name": "ipython",
    "version": 3
   },
   "file_extension": ".py",
   "mimetype": "text/x-python",
   "name": "python",
   "nbconvert_exporter": "python",
   "pygments_lexer": "ipython3",
   "version": "3.6.4"
  }
 },
 "nbformat": 4,
 "nbformat_minor": 2
}
